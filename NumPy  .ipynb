{
 "cells": [
  {
   "cell_type": "markdown",
   "id": "5f8fe07e",
   "metadata": {},
   "source": [
    "# Numpy"
   ]
  },
  {
   "cell_type": "code",
   "execution_count": 1,
   "id": "d1bd4cc0",
   "metadata": {},
   "outputs": [
    {
     "name": "stdout",
     "output_type": "stream",
     "text": [
      "1.21.5\n"
     ]
    }
   ],
   "source": [
    "import numpy as np\n",
    "print(np.__version__)"
   ]
  },
  {
   "cell_type": "markdown",
   "id": "29d9952b",
   "metadata": {},
   "source": [
    "# Creating numpy array"
   ]
  },
  {
   "cell_type": "code",
   "execution_count": 2,
   "id": "125d25e4",
   "metadata": {},
   "outputs": [
    {
     "name": "stdout",
     "output_type": "stream",
     "text": [
      "[1 2 3 5]\n"
     ]
    }
   ],
   "source": [
    "#using list\n",
    "l=[1,2,3,5]\n",
    "arr=np.array(l)\n",
    "print(arr)"
   ]
  },
  {
   "cell_type": "code",
   "execution_count": 3,
   "id": "49c45cc2",
   "metadata": {},
   "outputs": [
    {
     "name": "stdout",
     "output_type": "stream",
     "text": [
      "(1, 2, 34)\n"
     ]
    }
   ],
   "source": [
    "#using tuple\n",
    "a=1,2,34\n",
    "arr=np.array(a)\n",
    "print(a)"
   ]
  },
  {
   "cell_type": "markdown",
   "id": "bfed81c4",
   "metadata": {},
   "source": [
    "# Dimentional arrays"
   ]
  },
  {
   "cell_type": "code",
   "execution_count": 4,
   "id": "a8aab00b",
   "metadata": {},
   "outputs": [
    {
     "name": "stdout",
     "output_type": "stream",
     "text": [
      "1\n",
      "0\n"
     ]
    }
   ],
   "source": [
    "#0-D\n",
    "arr=np.array(1)\n",
    "print(arr)\n",
    "print(arr.ndim)"
   ]
  },
  {
   "cell_type": "code",
   "execution_count": 5,
   "id": "e144df81",
   "metadata": {},
   "outputs": [
    {
     "name": "stdout",
     "output_type": "stream",
     "text": [
      "[1 2 3 4]\n",
      "1\n"
     ]
    }
   ],
   "source": [
    "#1-D\n",
    "arr=np.array([1,2,3,4])\n",
    "print(arr)\n",
    "print(arr.ndim)"
   ]
  },
  {
   "cell_type": "code",
   "execution_count": 6,
   "id": "a35037c1",
   "metadata": {},
   "outputs": [
    {
     "name": "stdout",
     "output_type": "stream",
     "text": [
      "[[1 2 3 4]\n",
      " [4 5 6 7]]\n",
      "2\n"
     ]
    }
   ],
   "source": [
    "#2-D\n",
    "arr=np.array([[1,2,3,4],[4,5,6,7]])\n",
    "print(arr)\n",
    "print(arr.ndim)"
   ]
  },
  {
   "cell_type": "code",
   "execution_count": 7,
   "id": "b263c5b8",
   "metadata": {},
   "outputs": [
    {
     "name": "stdout",
     "output_type": "stream",
     "text": [
      "[[[[[1 2 3 4]]]]]\n",
      "5\n"
     ]
    }
   ],
   "source": [
    "#ndim\n",
    "arr=np.array([1,2,3,4],ndmin=5)\n",
    "print(arr)\n",
    "print(arr.ndim)"
   ]
  },
  {
   "cell_type": "markdown",
   "id": "c39dfb0b",
   "metadata": {},
   "source": [
    "# Accesing and Slicing  "
   ]
  },
  {
   "cell_type": "code",
   "execution_count": 8,
   "id": "b28c782f",
   "metadata": {},
   "outputs": [
    {
     "name": "stdout",
     "output_type": "stream",
     "text": [
      "[1 2 3 4]\n",
      "1\n",
      "2\n",
      "4\n",
      "[1 2 3]\n"
     ]
    }
   ],
   "source": [
    "#1-D\n",
    "arr=np.array([1,2,3,4])\n",
    "print(arr)\n",
    "print(arr.ndim)\n",
    "print(arr[a[0]])\n",
    "print(arr[-1])\n",
    "print(arr[0:3])\n"
   ]
  },
  {
   "cell_type": "code",
   "execution_count": 9,
   "id": "cdeda4a1",
   "metadata": {},
   "outputs": [
    {
     "name": "stdout",
     "output_type": "stream",
     "text": [
      "[[1 2 3 4]\n",
      " [4 5 6 7]]\n",
      "2\n",
      "5\n",
      "3\n",
      "[[1 2 3 4]]\n",
      "[[1]\n",
      " [4]]\n"
     ]
    }
   ],
   "source": [
    "#2-D\n",
    "arr=np.array([[1,2,3,4],[4,5,6,7]])\n",
    "print(arr)\n",
    "print(arr.ndim)\n",
    "print(arr[1,1])\n",
    "print(arr[0,2])\n",
    "print(arr[0:1])\n",
    "print(arr[:,0:1])"
   ]
  },
  {
   "cell_type": "code",
   "execution_count": 10,
   "id": "6f3ee712",
   "metadata": {},
   "outputs": [
    {
     "name": "stdout",
     "output_type": "stream",
     "text": [
      "[[[1 2 3 4]\n",
      "  [2 3 4 5]]\n",
      "\n",
      " [[4 5 6 7]\n",
      "  [8 9 0 9]]]\n"
     ]
    }
   ],
   "source": [
    "arr=np.array([[[1,2,3,4],[2,3,4,5]],\n",
    "              [[4,5,6,7],[8,9,0,9]]])\n",
    "print(arr)"
   ]
  },
  {
   "cell_type": "code",
   "execution_count": 11,
   "id": "c8b72e3b",
   "metadata": {},
   "outputs": [
    {
     "name": "stdout",
     "output_type": "stream",
     "text": [
      "3\n",
      "7\n",
      "[3]\n",
      "[[4]]\n"
     ]
    }
   ],
   "source": [
    "print(arr[0,1,1])\n",
    "print(arr[1,0,3])\n",
    "print(arr[0:1,0,2])\n",
    "print(arr[0:-1,0:-1,3])"
   ]
  },
  {
   "cell_type": "markdown",
   "id": "48ff54a6",
   "metadata": {},
   "source": [
    "# functions"
   ]
  },
  {
   "cell_type": "code",
   "execution_count": 12,
   "id": "bcda56c9",
   "metadata": {},
   "outputs": [],
   "source": [
    "#shape\n",
    "arr1=np.array([1,2,3,4])\n",
    "arr2=np.array([[1,2,3],[5,6,7]])"
   ]
  },
  {
   "cell_type": "code",
   "execution_count": 13,
   "id": "e543d816",
   "metadata": {},
   "outputs": [
    {
     "name": "stdout",
     "output_type": "stream",
     "text": [
      "(4,)\n",
      "(2, 3)\n"
     ]
    }
   ],
   "source": [
    "print(np.shape(arr1))\n",
    "print(np.shape(arr2))"
   ]
  },
  {
   "cell_type": "code",
   "execution_count": 14,
   "id": "3d70138e",
   "metadata": {},
   "outputs": [
    {
     "data": {
      "text/plain": [
       "dtype('int32')"
      ]
     },
     "execution_count": 14,
     "metadata": {},
     "output_type": "execute_result"
    }
   ],
   "source": [
    "#dtype\n",
    "arr1.dtype"
   ]
  },
  {
   "cell_type": "code",
   "execution_count": 15,
   "id": "3c9aab0e",
   "metadata": {},
   "outputs": [
    {
     "data": {
      "text/plain": [
       "4"
      ]
     },
     "execution_count": 15,
     "metadata": {},
     "output_type": "execute_result"
    }
   ],
   "source": [
    "#itemsize\n",
    "arr1.itemsize"
   ]
  },
  {
   "cell_type": "code",
   "execution_count": 16,
   "id": "96ce3ffc",
   "metadata": {},
   "outputs": [
    {
     "data": {
      "text/plain": [
       "4"
      ]
     },
     "execution_count": 16,
     "metadata": {},
     "output_type": "execute_result"
    }
   ],
   "source": [
    "#total size\n",
    "arr1.size"
   ]
  },
  {
   "cell_type": "code",
   "execution_count": 17,
   "id": "dbf85c40",
   "metadata": {},
   "outputs": [
    {
     "name": "stdout",
     "output_type": "stream",
     "text": [
      "[[1 2]\n",
      " [3 4]\n",
      " [5 6]\n",
      " [7 8]]\n"
     ]
    }
   ],
   "source": [
    "#reshape\n",
    "a=np.array([1,2,3,4,5,6,7,8])\n",
    "print(np.reshape(a,(4,2)))"
   ]
  },
  {
   "cell_type": "code",
   "execution_count": 18,
   "id": "30252fa2",
   "metadata": {},
   "outputs": [
    {
     "name": "stdout",
     "output_type": "stream",
     "text": [
      "[[1 2 3 4 5 6 7 8]]\n"
     ]
    }
   ],
   "source": [
    "a=np.array([1,2,3,4,5,6,7,8])\n",
    "print(np.reshape(a,(1,8)))"
   ]
  },
  {
   "cell_type": "markdown",
   "id": "c42fdf7d",
   "metadata": {},
   "source": [
    "# Changing Elements"
   ]
  },
  {
   "cell_type": "code",
   "execution_count": 19,
   "id": "8640ca36",
   "metadata": {},
   "outputs": [
    {
     "name": "stdout",
     "output_type": "stream",
     "text": [
      "[[1 2 3]\n",
      " [5 6 7]]\n",
      "[[6 6 6]\n",
      " [5 6 7]]\n"
     ]
    }
   ],
   "source": [
    "a=np.array([[1,2,3],[5,6,7]])\n",
    "print(a)\n",
    "a[0:1]=[6,6,6]\n",
    "print(a)"
   ]
  },
  {
   "cell_type": "code",
   "execution_count": 20,
   "id": "2e6cc979",
   "metadata": {},
   "outputs": [
    {
     "name": "stdout",
     "output_type": "stream",
     "text": [
      "[[[1 2 3]\n",
      "  [5 6 7]]\n",
      "\n",
      " [[6 7 8]\n",
      "  [5 5 7]]]\n",
      "[[[1 1 1]\n",
      "  [5 6 7]]\n",
      "\n",
      " [[6 7 8]\n",
      "  [5 5 7]]]\n"
     ]
    }
   ],
   "source": [
    "a=np.array([[[1,2,3],[5,6,7]],\n",
    "            [[6,7,8],[5,5,7]]])\n",
    "print(a)\n",
    "a[0:1,0,]=[1,1,1]\n",
    "print(a)"
   ]
  },
  {
   "cell_type": "markdown",
   "id": "fb2938cc",
   "metadata": {},
   "source": [
    "# initializing different types of elements\n"
   ]
  },
  {
   "cell_type": "code",
   "execution_count": 21,
   "id": "275401f6",
   "metadata": {
    "scrolled": true
   },
   "outputs": [
    {
     "name": "stdout",
     "output_type": "stream",
     "text": [
      "0\n",
      "[0 0 0 0 0]\n",
      "[[0 0]\n",
      " [0 0]]\n",
      "[[[0 0 0]\n",
      "  [0 0 0]]]\n"
     ]
    }
   ],
   "source": [
    "#zeros\n",
    "print( np.zeros((),dtype='int32'))\n",
    "print( np.zeros((5),dtype='int32'))\n",
    "print( np.zeros((2,2),dtype='int32'))\n",
    "print( np.zeros((1,2,3),dtype='int32'))\n"
   ]
  },
  {
   "cell_type": "code",
   "execution_count": 22,
   "id": "984380db",
   "metadata": {},
   "outputs": [
    {
     "name": "stdout",
     "output_type": "stream",
     "text": [
      "[[[0 0 0]\n",
      "  [0 0 0]]\n",
      "\n",
      " [[0 0 0]\n",
      "  [0 0 0]]]\n",
      "\n",
      "\n",
      "[[[0 0 0]\n",
      "  [0 0 0]\n",
      "  [0 0 0]]\n",
      "\n",
      " [[0 0 0]\n",
      "  [0 0 0]\n",
      "  [0 0 0]]]\n",
      "[[[0 0 0]\n",
      "  [0 0 0]\n",
      "  [0 0 0]]\n",
      "\n",
      " [[0 0 0]\n",
      "  [0 0 0]\n",
      "  [0 0 0]]\n",
      "\n",
      " [[0 0 0]\n",
      "  [0 0 0]\n",
      "  [0 0 0]]\n",
      "\n",
      " [[0 0 0]\n",
      "  [0 0 0]\n",
      "  [0 0 0]]]\n"
     ]
    }
   ],
   "source": [
    "import numpy as np\n",
    "print( np.zeros((2,2,3),dtype='int32'))\n",
    "print(\"\\n\")\n",
    "print( np.zeros((2,3,3),dtype='int32'))\n",
    "\n",
    "print( np.zeros((4,3,3),dtype='int32'))"
   ]
  },
  {
   "cell_type": "code",
   "execution_count": 23,
   "id": "7f78baf1",
   "metadata": {},
   "outputs": [
    {
     "name": "stdout",
     "output_type": "stream",
     "text": [
      "1\n",
      "[1 1 1 1 1]\n",
      "[[1 1]\n",
      " [1 1]]\n",
      "[[[1 1 1]\n",
      "  [1 1 1]]]\n"
     ]
    }
   ],
   "source": [
    "#ones\n",
    "print( np.ones((),dtype='int32'))\n",
    "print( np.ones((5),dtype='int32'))\n",
    "print( np.ones((2,2),dtype='int32'))\n",
    "print( np.ones((1,2,3),dtype='int32'))"
   ]
  },
  {
   "cell_type": "code",
   "execution_count": 24,
   "id": "373e01da",
   "metadata": {},
   "outputs": [
    {
     "name": "stdout",
     "output_type": "stream",
     "text": [
      "2\n",
      "[4 4 4 4 4]\n",
      "[[5 5]\n",
      " [5 5]]\n",
      "[[[6 6 6]\n",
      "  [6 6 6]]]\n"
     ]
    }
   ],
   "source": [
    "#our own elements\n",
    "print( np.full((),2,dtype='int32'))\n",
    "print( np.full((5),4,dtype='int32'))\n",
    "print( np.full((2,2),5,dtype='int32'))\n",
    "print( np.full((1,2,3),6,dtype='int32'))"
   ]
  },
  {
   "cell_type": "code",
   "execution_count": 25,
   "id": "0e1f361e",
   "metadata": {},
   "outputs": [
    {
     "name": "stdout",
     "output_type": "stream",
     "text": [
      "[1 2 3]\n",
      "1\n",
      "2\n",
      "3\n"
     ]
    }
   ],
   "source": [
    "#accesing 1-D array elements\n",
    "a1=np.array([1,2,3])\n",
    "print(a1)\n",
    "for i in a1:\n",
    "    print(i)"
   ]
  },
  {
   "cell_type": "code",
   "execution_count": 26,
   "id": "11450eab",
   "metadata": {},
   "outputs": [
    {
     "name": "stdout",
     "output_type": "stream",
     "text": [
      "[[1, 2, 3], [6, 7, 8]]\n",
      "[1, 2, 3]\n",
      "[6, 7, 8]\n"
     ]
    }
   ],
   "source": [
    "#accesing 2-D array elements \n",
    "a2=[[1,2,3],[6,7,8]]\n",
    "print(a2)\n",
    "for i in a2:\n",
    "    print(i)"
   ]
  },
  {
   "cell_type": "code",
   "execution_count": 27,
   "id": "da108045",
   "metadata": {},
   "outputs": [
    {
     "name": "stdout",
     "output_type": "stream",
     "text": [
      "1\n",
      "2\n",
      "3\n",
      "6\n",
      "7\n",
      "8\n"
     ]
    }
   ],
   "source": [
    "for i in a2:\n",
    "    for j in i:\n",
    "        print(j)"
   ]
  },
  {
   "cell_type": "markdown",
   "id": "2b24e505",
   "metadata": {},
   "source": [
    "# operations on numpy "
   ]
  },
  {
   "cell_type": "code",
   "execution_count": 28,
   "id": "401b7aeb",
   "metadata": {},
   "outputs": [
    {
     "name": "stdout",
     "output_type": "stream",
     "text": [
      "[9 7 6]\n",
      "[-7 -3  0]\n",
      "[ 8 10  9]\n",
      "[0.125 0.4   1.   ]\n"
     ]
    }
   ],
   "source": [
    "#arithmatic operations\n",
    "a=np.array([1,2,3])\n",
    "b=np.array([8,5,3])\n",
    "print(np.add(a,b))\n",
    "print(np.subtract(a,b))\n",
    "print(np.multiply(a,b))\n",
    "print(np.divide(a,b))"
   ]
  },
  {
   "cell_type": "code",
   "execution_count": 29,
   "id": "e8ba652d",
   "metadata": {},
   "outputs": [
    {
     "name": "stdout",
     "output_type": "stream",
     "text": [
      "[ True  True  True]\n",
      "[ True  True  True]\n",
      "[False False False]\n",
      "[ True  True  True]\n",
      "[False False False]\n",
      "[ True  True False]\n",
      "[False False  True]\n",
      "[False False False]\n",
      "[False False  True]\n"
     ]
    }
   ],
   "source": [
    "#logical operations and coparision\n",
    "print(np.logical_and(a,b))\n",
    "print(np.logical_or(a,b))\n",
    "print(np.logical_not(a))\n",
    "print(np.logical_and(a,b))\n",
    "print(np.logical_xor(a,b))\n",
    "print(np.less(a,b))\n",
    "print(np.equal(a,b))\n",
    "print(np.greater(a,b))\n",
    "print(np.greater_equal(a,b))\n",
    "\n"
   ]
  },
  {
   "cell_type": "code",
   "execution_count": 30,
   "id": "ca8070aa",
   "metadata": {},
   "outputs": [
    {
     "name": "stdout",
     "output_type": "stream",
     "text": [
      "[ 0.54030231 -0.41614684 -0.9899925 ]\n",
      "[0.84147098 0.90929743 0.14112001]\n",
      "[ 1.55740772 -2.18503986 -0.14254654]\n"
     ]
    }
   ],
   "source": [
    "#trignometric operations\n",
    "print(np.cos(a))\n",
    "print(np.sin(a))\n",
    "print(np.tan(a))\n"
   ]
  },
  {
   "cell_type": "code",
   "execution_count": 31,
   "id": "5bda0123",
   "metadata": {
    "scrolled": true
   },
   "outputs": [
    {
     "name": "stdout",
     "output_type": "stream",
     "text": [
      "3.141592653589793\n",
      "2.718281828459045\n",
      "22026.465794806718\n"
     ]
    }
   ],
   "source": [
    "#constants\n",
    "print(np.pi) \n",
    "print(np.e)\n",
    "print(np.exp(10))"
   ]
  },
  {
   "cell_type": "markdown",
   "id": "ec6020d3",
   "metadata": {},
   "source": [
    "# Mathematics"
   ]
  },
  {
   "cell_type": "code",
   "execution_count": 32,
   "id": "8cd9b25c",
   "metadata": {},
   "outputs": [
    {
     "data": {
      "text/plain": [
       "array([[ 2,  4,  6],\n",
       "       [ 7,  9, 11]])"
      ]
     },
     "execution_count": 32,
     "metadata": {},
     "output_type": "execute_result"
    }
   ],
   "source": [
    "a1+a2"
   ]
  },
  {
   "cell_type": "code",
   "execution_count": 33,
   "id": "d159e167",
   "metadata": {},
   "outputs": [
    {
     "data": {
      "text/plain": [
       "array([[ 0,  0,  0],\n",
       "       [-5, -5, -5]])"
      ]
     },
     "execution_count": 33,
     "metadata": {},
     "output_type": "execute_result"
    }
   ],
   "source": [
    "a1-a2"
   ]
  },
  {
   "cell_type": "code",
   "execution_count": 34,
   "id": "a7059c19",
   "metadata": {},
   "outputs": [
    {
     "data": {
      "text/plain": [
       "array([[1.        , 1.        , 1.        ],\n",
       "       [0.16666667, 0.28571429, 0.375     ]])"
      ]
     },
     "execution_count": 34,
     "metadata": {},
     "output_type": "execute_result"
    }
   ],
   "source": [
    "a1/a2"
   ]
  },
  {
   "cell_type": "code",
   "execution_count": 35,
   "id": "ff186e8e",
   "metadata": {
    "scrolled": true
   },
   "outputs": [
    {
     "data": {
      "text/plain": [
       "array([1, 4, 9], dtype=int32)"
      ]
     },
     "execution_count": 35,
     "metadata": {},
     "output_type": "execute_result"
    }
   ],
   "source": [
    "a1**2"
   ]
  },
  {
   "cell_type": "markdown",
   "id": "1ba9ee07",
   "metadata": {},
   "source": [
    "# Statistics"
   ]
  },
  {
   "cell_type": "code",
   "execution_count": 36,
   "id": "602e8d97",
   "metadata": {},
   "outputs": [
    {
     "name": "stdout",
     "output_type": "stream",
     "text": [
      "1\n",
      "3\n",
      "2.0\n",
      "0.816496580927726\n",
      "2.0\n"
     ]
    }
   ],
   "source": [
    "print(np.min(a1))\n",
    "print(np.max(a1))\n",
    "print(np.mean(a1))\n",
    "print(np.std(a1))\n",
    "print(np.median(a1))\n"
   ]
  },
  {
   "cell_type": "markdown",
   "id": "f6406ac4",
   "metadata": {},
   "source": [
    "# linear algebra"
   ]
  },
  {
   "cell_type": "code",
   "execution_count": 37,
   "id": "e9c4f3e0",
   "metadata": {},
   "outputs": [
    {
     "data": {
      "text/plain": [
       "' rank , transpose,inverse , det,\\nproduct -> inner , outer , dot\\nsolve equations\\neigen values and eigen vectors'"
      ]
     },
     "execution_count": 37,
     "metadata": {},
     "output_type": "execute_result"
    }
   ],
   "source": [
    "''' rank , transpose,inverse , det,\n",
    "product -> inner , outer , dot\n",
    "solve equations\n",
    "eigen values and eigen vectors'''\n"
   ]
  },
  {
   "cell_type": "code",
   "execution_count": 38,
   "id": "22a35846",
   "metadata": {},
   "outputs": [
    {
     "name": "stdout",
     "output_type": "stream",
     "text": [
      "[[2 6 8]\n",
      " [4 5 5]\n",
      " [1 1 8]]\n",
      "3\n",
      "[[2 4 1]\n",
      " [6 5 1]\n",
      " [8 5 8]]\n",
      "[[-0.35  0.4   0.1 ]\n",
      " [ 0.27 -0.08 -0.22]\n",
      " [ 0.01 -0.04  0.14]]\n",
      "-100.00000000000004\n"
     ]
    }
   ],
   "source": [
    "#rank\n",
    "a=np.random.randint(1,9,(3,3))\n",
    "print(a)\n",
    "print(np.linalg.matrix_rank(a))\n",
    "print(np.transpose(a))\n",
    "print(np.linalg.inv(a))\n",
    "print(np.linalg.det(a))\n"
   ]
  },
  {
   "cell_type": "code",
   "execution_count": 39,
   "id": "c074f18c",
   "metadata": {},
   "outputs": [
    {
     "name": "stdout",
     "output_type": "stream",
     "text": [
      "[[2 6 8]\n",
      " [4 5 5]\n",
      " [1 1 8]]\n",
      "[11.83603817 -1.72731457  4.89127641] [[ 0.67735496  0.87144003 -0.48564166]\n",
      " [ 0.64929632 -0.4889232  -0.77449334]\n",
      " [ 0.34583891 -0.03932399  0.40535447]]\n"
     ]
    }
   ],
   "source": [
    "#eigen values and eigen vectors\n",
    "print(a)\n",
    "val,vect=np.linalg.eig(a)\n",
    "print(val,vect)"
   ]
  },
  {
   "cell_type": "code",
   "execution_count": 40,
   "id": "d616e4f7",
   "metadata": {},
   "outputs": [
    {
     "name": "stdout",
     "output_type": "stream",
     "text": [
      "[13. -3. -4.]\n"
     ]
    }
   ],
   "source": [
    "#solving the linear equation\n",
    "a=[[2,3,4],\n",
    "  [4,5,8],\n",
    "   [3,4,5]]\n",
    "b=[1,5,7]\n",
    "print(np.linalg.solve(a,b))"
   ]
  },
  {
   "cell_type": "code",
   "execution_count": 41,
   "id": "351f26a4",
   "metadata": {},
   "outputs": [
    {
     "name": "stdout",
     "output_type": "stream",
     "text": [
      "[[ 1  1 16]\n",
      " [ 8  4 11]\n",
      " [ 2 13 10]]\n",
      "[[ 1  8  5]\n",
      " [25 21 21]\n",
      " [15 16 15]]\n",
      "[[266 285 266]\n",
      " [273 324 289]\n",
      " [477 449 433]]\n"
     ]
    }
   ],
   "source": [
    "#product\n",
    "#dot\n",
    "a=np.random.randint(1,20,(3,3))\n",
    "b=np.random.randint(1,30,(3,3))\n",
    "print(a)\n",
    "print(b)\n",
    "print(np.dot(a,b))\n",
    "\n"
   ]
  },
  {
   "cell_type": "code",
   "execution_count": 42,
   "id": "5a31c73a",
   "metadata": {},
   "outputs": [
    {
     "name": "stdout",
     "output_type": "stream",
     "text": [
      "[[ 89 382 271]\n",
      " [ 95 515 349]\n",
      " [156 533 388]]\n"
     ]
    }
   ],
   "source": [
    "#inner\n",
    "print(np.inner(a,b)) "
   ]
  },
  {
   "cell_type": "code",
   "execution_count": 43,
   "id": "285b89d9",
   "metadata": {},
   "outputs": [
    {
     "name": "stdout",
     "output_type": "stream",
     "text": [
      "[[  1   8   5  25  21  21  15  16  15]\n",
      " [  1   8   5  25  21  21  15  16  15]\n",
      " [ 16 128  80 400 336 336 240 256 240]\n",
      " [  8  64  40 200 168 168 120 128 120]\n",
      " [  4  32  20 100  84  84  60  64  60]\n",
      " [ 11  88  55 275 231 231 165 176 165]\n",
      " [  2  16  10  50  42  42  30  32  30]\n",
      " [ 13 104  65 325 273 273 195 208 195]\n",
      " [ 10  80  50 250 210 210 150 160 150]]\n"
     ]
    }
   ],
   "source": [
    "#outer\n",
    "print(np.outer(a,b))"
   ]
  },
  {
   "cell_type": "code",
   "execution_count": null,
   "id": "68189f7b",
   "metadata": {},
   "outputs": [],
   "source": []
  },
  {
   "cell_type": "markdown",
   "id": "602f118c",
   "metadata": {},
   "source": [
    "# random module"
   ]
  },
  {
   "cell_type": "code",
   "execution_count": 44,
   "id": "ee4199d0",
   "metadata": {},
   "outputs": [
    {
     "name": "stdout",
     "output_type": "stream",
     "text": [
      "[0.68268369]\n",
      "[[0.93780191 0.47123906]\n",
      " [0.00143938 0.32686943]]\n",
      "[[[0.80893154 0.04140642 0.34017446 0.08854778]\n",
      "  [0.92970763 0.81380326 0.88117831 0.03387538]]]\n"
     ]
    }
   ],
   "source": [
    "#decimal 0-1\n",
    "from numpy import random\n",
    "print(np.random.rand(1))\n",
    "print(np.random.rand(2,2))\n",
    "print(np.random.rand(1,2,4))"
   ]
  },
  {
   "cell_type": "code",
   "execution_count": 45,
   "id": "26e10909",
   "metadata": {},
   "outputs": [
    {
     "name": "stdout",
     "output_type": "stream",
     "text": [
      "0\n",
      "[[7 6]\n",
      " [6 6]]\n",
      "[[65 38 24]\n",
      " [79 59 41]\n",
      " [65 13 89]]\n"
     ]
    }
   ],
   "source": [
    "#integer\n",
    "print(np.random.randint(1))\n",
    "print(np.random.randint(2,10,(2,2)))\n",
    "print(np.random.randint(1,100,(3,3)))"
   ]
  },
  {
   "cell_type": "code",
   "execution_count": 46,
   "id": "7e7b9925",
   "metadata": {},
   "outputs": [
    {
     "name": "stdout",
     "output_type": "stream",
     "text": [
      "3\n"
     ]
    }
   ],
   "source": [
    "#choose -> create a array from existing one\n",
    "a=np.array([1,2,3,4])\n",
    "print(np.random.choice(a))\n"
   ]
  },
  {
   "cell_type": "markdown",
   "id": "348c803c",
   "metadata": {},
   "source": [
    "# be careful while dealing with copy"
   ]
  },
  {
   "cell_type": "code",
   "execution_count": 47,
   "id": "dc2ea21c",
   "metadata": {},
   "outputs": [
    {
     "name": "stdout",
     "output_type": "stream",
     "text": [
      "[1 2 3]\n",
      "[10  2  3]\n",
      "[1 2 3]\n"
     ]
    }
   ],
   "source": [
    "#copy doesnt change the original array\n",
    "a=np.array([1,2,3])     \n",
    "print(a)\n",
    "b=np.copy(a)\n",
    "b[0]=10\n",
    "print(b)\n",
    "print(a)\n"
   ]
  },
  {
   "cell_type": "code",
   "execution_count": 48,
   "id": "43a2df07",
   "metadata": {},
   "outputs": [
    {
     "name": "stdout",
     "output_type": "stream",
     "text": [
      "[1 2 3]\n",
      "[10  2  3]\n",
      "[10  2  3]\n"
     ]
    }
   ],
   "source": [
    "#view does change the original array\n",
    "a=np.array([1,2,3])     \n",
    "print(a)\n",
    "b=a.view()\n",
    "b[0]=10\n",
    "print(b)\n",
    "print(a)"
   ]
  },
  {
   "cell_type": "markdown",
   "id": "e40b24d0",
   "metadata": {},
   "source": [
    "# searching and sorting"
   ]
  },
  {
   "cell_type": "code",
   "execution_count": 49,
   "id": "d66804b8",
   "metadata": {},
   "outputs": [
    {
     "name": "stdout",
     "output_type": "stream",
     "text": [
      "[ 1  2  7  4 29  8]\n",
      "1\n"
     ]
    }
   ],
   "source": [
    "#searching\n",
    "a=np.array([1,2,7,4,29,8])\n",
    "print(a)\n",
    "b=np.searchsorted(a,2)\n",
    "print(b)"
   ]
  },
  {
   "cell_type": "code",
   "execution_count": 50,
   "id": "07696e79",
   "metadata": {},
   "outputs": [
    {
     "name": "stdout",
     "output_type": "stream",
     "text": [
      "[ 1  2  7  4 29  8]\n",
      "[ 1  2  4  7  8 29]\n"
     ]
    }
   ],
   "source": [
    "#sorting\n",
    "a=np.array([1,2,7,4,29,8])\n",
    "print(a)\n",
    "b=np.sort(a)\n",
    "print(b)"
   ]
  },
  {
   "cell_type": "code",
   "execution_count": 51,
   "id": "2c7eff1a",
   "metadata": {},
   "outputs": [
    {
     "name": "stdout",
     "output_type": "stream",
     "text": [
      "[ 1  2  7  4 29  8]\n",
      "6\n"
     ]
    }
   ],
   "source": [
    "#count\n",
    "a=np.array([1,2,7,4,29,8])\n",
    "print(a)\n",
    "b=np.count_nonzero(a)\n",
    "print(b)"
   ]
  },
  {
   "cell_type": "markdown",
   "id": "b19a56e3",
   "metadata": {},
   "source": [
    "# stacking\n"
   ]
  },
  {
   "cell_type": "code",
   "execution_count": 52,
   "id": "6778e4aa",
   "metadata": {},
   "outputs": [
    {
     "name": "stdout",
     "output_type": "stream",
     "text": [
      "[[3 2 2 3 3]]\n",
      "[[6 3 1 3 9]]\n",
      "[[3 2 2 3 3 6 3 1 3 9]]\n"
     ]
    }
   ],
   "source": [
    "#hstack\n",
    "a=np.random.randint(1,5,(1,5))\n",
    "b=np.random.randint(1,10,(1,5))\n",
    "print(a)\n",
    "print(b)\n",
    "print(np.hstack([a,b]))"
   ]
  },
  {
   "cell_type": "code",
   "execution_count": 53,
   "id": "138970bc",
   "metadata": {},
   "outputs": [
    {
     "name": "stdout",
     "output_type": "stream",
     "text": [
      "[[4 1 4 4 3]]\n",
      "[[4 9 9 7 3]]\n",
      "[[4 1 4 4 3]\n",
      " [4 9 9 7 3]]\n"
     ]
    }
   ],
   "source": [
    "#hstack\n",
    "a=np.random.randint(1,5,(1,5))\n",
    "b=np.random.randint(1,10,(1,5))\n",
    "print(a)\n",
    "print(b)\n",
    "print(np.vstack([a,b]))"
   ]
  },
  {
   "cell_type": "markdown",
   "id": "5f7e1aeb",
   "metadata": {},
   "source": [
    "# interpolate"
   ]
  },
  {
   "cell_type": "code",
   "execution_count": 54,
   "id": "c7267e4b",
   "metadata": {},
   "outputs": [
    {
     "name": "stdout",
     "output_type": "stream",
     "text": [
      "45.0\n"
     ]
    }
   ],
   "source": [
    "days=np.array([1,3,5,7])\n",
    "price=np.array([20,30,23,45])\n",
    "remain=np.interp(32,days,price)\n",
    "print(remain)"
   ]
  },
  {
   "cell_type": "code",
   "execution_count": 55,
   "id": "bf851fcf",
   "metadata": {},
   "outputs": [
    {
     "name": "stdout",
     "output_type": "stream",
     "text": [
      "[25. 34.]\n"
     ]
    }
   ],
   "source": [
    "days=np.array([1,3,5,7])\n",
    "price=np.array([20,30,23,45])\n",
    "find=[2,6]\n",
    "remain=np.interp(find,days,price)\n",
    "print(remain)"
   ]
  },
  {
   "cell_type": "code",
   "execution_count": 56,
   "id": "15f4ddb3",
   "metadata": {},
   "outputs": [
    {
     "name": "stdout",
     "output_type": "stream",
     "text": [
      "[40. 40.]\n"
     ]
    }
   ],
   "source": [
    "import numpy as np\n",
    "days=np.array(['sun','mon','tues','wed'])\n",
    "sal=np.array([10,20,30,40])\n",
    "interday=np.array(['fri','sat'])\n",
    "day_map = {'sun': 0, 'mon': 1, 'tues': 2, 'wed': 3, 'thurs': 4, 'fri': 5, 'sat': 6}\n",
    "#convering days to int\n",
    "day_int=np.array([day_map[day]  for day in days])\n",
    "interday_int=np.array([day_map[day]  for day in interday])\n",
    "print(np.interp(interday_int,day_int,sal))"
   ]
  },
  {
   "cell_type": "markdown",
   "id": "3eca15da",
   "metadata": {},
   "source": [
    "# boolean indexing and fancy indexing"
   ]
  },
  {
   "cell_type": "code",
   "execution_count": 57,
   "id": "4d32aa4b",
   "metadata": {},
   "outputs": [
    {
     "name": "stdout",
     "output_type": "stream",
     "text": [
      "[1 2 3 4]\n",
      "[4]\n"
     ]
    }
   ],
   "source": [
    "#boolean indexing\n",
    "old=np.array([1,2,3,4])\n",
    "print(old)\n",
    "boolean_mask=old>3\n",
    "result=old[boolean_mask]\n",
    "\n",
    "print(result)"
   ]
  },
  {
   "cell_type": "code",
   "execution_count": 58,
   "id": "fdd4d741",
   "metadata": {},
   "outputs": [
    {
     "name": "stdout",
     "output_type": "stream",
     "text": [
      "[2 3]\n"
     ]
    }
   ],
   "source": [
    "#fancy indexing\n",
    "old=np.array([1,2,3,4])\n",
    "select_elements=old[[1,2]]\n",
    "print(select_elements)\n"
   ]
  },
  {
   "cell_type": "code",
   "execution_count": 59,
   "id": "52450cbc",
   "metadata": {},
   "outputs": [
    {
     "name": "stdout",
     "output_type": "stream",
     "text": [
      "[1 2 3 4]\n",
      "[4]\n"
     ]
    }
   ],
   "source": [
    "#boolean indexing\n",
    "old=np.array([1,2,3,4])\n",
    "print(old)\n",
    "boolean_mask=old>3\n",
    "result=old[old>3]\n",
    "\n",
    "print(result)"
   ]
  }
 ],
 "metadata": {
  "kernelspec": {
   "display_name": "Python 3 (ipykernel)",
   "language": "python",
   "name": "python3"
  },
  "language_info": {
   "codemirror_mode": {
    "name": "ipython",
    "version": 3
   },
   "file_extension": ".py",
   "mimetype": "text/x-python",
   "name": "python",
   "nbconvert_exporter": "python",
   "pygments_lexer": "ipython3",
   "version": "3.9.12"
  }
 },
 "nbformat": 4,
 "nbformat_minor": 5
}
